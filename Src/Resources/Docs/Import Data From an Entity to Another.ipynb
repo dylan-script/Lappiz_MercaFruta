{
    "metadata": {
        "kernelspec": {
            "name": "SQL",
            "display_name": "SQL",
            "language": "sql"
        },
        "language_info": {
            "name": "sql",
            "version": ""
        }
    },
    "nbformat_minor": 2,
    "nbformat": 4,
    "cells": [
        {
            "cell_type": "markdown",
            "source": [
                "Esta es una manera en la cual se importan los datos de una entidad a otra. \n",
                "\n",
                "**Nota: Este es un ejemplo de dos tabals con las mismas columnas y en el mismo orden, es decir, ambas tienen la misma estructura.**"
            ],
            "metadata": {
                "azdata_cell_guid": "e29e44ea-e416-416d-8437-7bbdd0b6d5ce"
            },
            "attachments": {}
        },
        {
            "cell_type": "code",
            "source": [
                "INSERT INTO FrutaNet_Lappiz_Users (Id\n",
                "      ,FullName\n",
                "      ,Email\n",
                "      ,Phone\n",
                "      ,Address\n",
                "      ,Photo\n",
                "      ,Contrasena\n",
                "      ,Activo\n",
                "      ,DeviceId,UserLdap)\n",
                "SELECT Id\n",
                "      ,FullName\n",
                "      ,Email\n",
                "      ,Phone\n",
                "      ,Address\n",
                "      ,Photo\n",
                "      ,Contrasena\n",
                "      ,Activo\n",
                "      ,DeviceId\n",
                "      ,UserLdap FROM MercaFruta_Lappiz_Users\n",
                "\n",
                "SELECT * FROM FrutaNet_Lappiz_Users"
            ],
            "metadata": {
                "azdata_cell_guid": "f7a0a868-cf5c-4528-8b6c-47af65790e2f",
                "tags": [
                    "hide_input"
                ]
            },
            "outputs": [],
            "execution_count": null
        },
        {
            "cell_type": "markdown",
            "source": [
                "También, hay que tener en cuenta hacer la importación primero con las tablas independientes y luego con aquellas que tengan relaciones. De lo contrario, no funcionará."
            ],
            "metadata": {
                "azdata_cell_guid": "aad9433d-a891-49f8-8119-e51b7d0841ee"
            },
            "attachments": {}
        },
        {
            "cell_type": "code",
            "source": [
                "INSERT INTO FrutaNet_Lappiz_Proveedor (Id\r\n",
                "      ,CEDescripcin\r\n",
                "      ,Created_date\r\n",
                "      ,Edited_date\r\n",
                "      ,Created_by\r\n",
                "      ,Edited_by\r\n",
                "      ,UserEmail\r\n",
                "      ,IpAddress\r\n",
                "      ,EventType\r\n",
                "      ,Nombre\r\n",
                "      ,Apellido\r\n",
                "      ,Email\r\n",
                "      ,TipoPersona\r\n",
                "      ,TipoDocumento\r\n",
                "      ,NumeroDocumento\r\n",
                "      ,Ciudad\r\n",
                "      ,Departamento\r\n",
                "      ,Pais\r\n",
                "      ,Direccion\r\n",
                "      ,Telefono\r\n",
                "      ,NombreEmpresa\r\n",
                "      ,Profesion\r\n",
                "      ,TipoProducto\r\n",
                "      ,ProductosVende\r\n",
                "      ,Privacidad\r\n",
                "      ,Otros\r\n",
                "      ,UserFK)\r\n",
                "SELECT Id\r\n",
                "      ,CEDescripcin\r\n",
                "      ,Created_date\r\n",
                "      ,Edited_date\r\n",
                "      ,Created_by\r\n",
                "      ,Edited_by\r\n",
                "      ,UserEmail\r\n",
                "      ,IpAddress\r\n",
                "      ,EventType\r\n",
                "      ,Nombre\r\n",
                "      ,Apellido\r\n",
                "      ,Email\r\n",
                "      ,TipoPersona\r\n",
                "      ,TipoDocumento\r\n",
                "      ,NumeroDocumento\r\n",
                "      ,Ciudad\r\n",
                "      ,Departamento\r\n",
                "      ,Pais\r\n",
                "      ,Direccion\r\n",
                "      ,Telefono\r\n",
                "      ,NombreEmpresa\r\n",
                "      ,Profesion\r\n",
                "      ,TipoProducto\r\n",
                "      ,ProductosVende\r\n",
                "      ,Privacidad\r\n",
                "      ,Otros\r\n",
                "      ,UserFK FROM MercaFruta_Lappiz_Proveedor\r\n",
                "\r\n",
                "SELECT * FROM FrutaNet_Lappiz_Proveedor\r\n",
                "\r\n",
                ""
            ],
            "metadata": {
                "azdata_cell_guid": "86839deb-0c2d-4623-a5d2-78897eb8fd2d",
                "tags": [
                    "hide_input"
                ]
            },
            "outputs": [
                {
                    "output_type": "display_data",
                    "data": {
                        "text/html": "(5 rows affected)"
                    },
                    "metadata": {}
                },
                {
                    "output_type": "display_data",
                    "data": {
                        "text/html": "(5 rows affected)"
                    },
                    "metadata": {}
                },
                {
                    "output_type": "display_data",
                    "data": {
                        "text/html": "Total execution time: 00:00:01.021"
                    },
                    "metadata": {}
                },
                {
                    "output_type": "execute_result",
                    "metadata": {},
                    "execution_count": 2,
                    "data": {
                        "application/vnd.dataresource+json": {
                            "schema": {
                                "fields": [
                                    {
                                        "name": "Id"
                                    },
                                    {
                                        "name": "TipoProducto"
                                    },
                                    {
                                        "name": "Pais"
                                    },
                                    {
                                        "name": "TipoDocumento"
                                    },
                                    {
                                        "name": "Otros"
                                    },
                                    {
                                        "name": "Ciudad"
                                    },
                                    {
                                        "name": "Direccion"
                                    },
                                    {
                                        "name": "TipoPersona"
                                    },
                                    {
                                        "name": "Edited_date"
                                    },
                                    {
                                        "name": "Edited_by"
                                    },
                                    {
                                        "name": "ProductosVende"
                                    },
                                    {
                                        "name": "UserFK"
                                    },
                                    {
                                        "name": "NumeroDocumento"
                                    },
                                    {
                                        "name": "Created_by"
                                    },
                                    {
                                        "name": "CEDescripcin"
                                    },
                                    {
                                        "name": "Created_date"
                                    },
                                    {
                                        "name": "IpAddress"
                                    },
                                    {
                                        "name": "Telefono"
                                    },
                                    {
                                        "name": "EventType"
                                    },
                                    {
                                        "name": "Departamento"
                                    },
                                    {
                                        "name": "Privacidad"
                                    },
                                    {
                                        "name": "UserEmail"
                                    },
                                    {
                                        "name": "Nombre"
                                    },
                                    {
                                        "name": "Email"
                                    },
                                    {
                                        "name": "NombreEmpresa"
                                    },
                                    {
                                        "name": "Apellido"
                                    },
                                    {
                                        "name": "Profesion"
                                    }
                                ]
                            },
                            "data": [
                                {
                                    "0": "47ef619b-60b0-4ee2-bb61-fc3e1fbaf1ab",
                                    "1": "Verduras",
                                    "2": "Colombia",
                                    "3": "Cédula de extranjería",
                                    "4": "NULL",
                                    "5": "a",
                                    "6": "a",
                                    "7": "Persona Natural",
                                    "8": "2022-06-01 22:18:27.000",
                                    "9": "NULL",
                                    "10": "NULL",
                                    "11": "657229be-99b7-4a83-93f7-a268624602c9",
                                    "12": "121334",
                                    "13": "NULL",
                                    "14": "",
                                    "15": "2022-06-01 22:18:27.000",
                                    "16": "NULL",
                                    "17": "1212121212",
                                    "18": "NULL",
                                    "19": "a",
                                    "20": "NULL",
                                    "21": "NULL",
                                    "22": "a",
                                    "23": "test.merca@yopmail.com",
                                    "24": "a",
                                    "25": "a",
                                    "26": "a"
                                },
                                {
                                    "0": "aaf4dc20-b3c4-4bd4-b9b6-f7d05522ca1f",
                                    "1": ",Frutas,Granos",
                                    "2": "Afganistán",
                                    "3": "CC",
                                    "4": "NULL",
                                    "5": "Kabul",
                                    "6": "clll",
                                    "7": "Persona Jurídica",
                                    "8": "2022-08-24 22:36:06.000",
                                    "9": "NULL",
                                    "10": "NULL",
                                    "11": "NULL",
                                    "12": "098908",
                                    "13": "NULL",
                                    "14": "",
                                    "15": "2022-08-24 22:36:06.000",
                                    "16": "NULL",
                                    "17": "3243242",
                                    "18": "NULL",
                                    "19": "Distrito",
                                    "20": "NULL",
                                    "21": "NULL",
                                    "22": "Dilan",
                                    "23": "dilanjimenez140@gmail.com",
                                    "24": "Cami",
                                    "25": "Jimenez Arroyave",
                                    "26": "Admin"
                                },
                                {
                                    "0": "8c6f4a29-c8a2-40f9-a63d-b45180bbd79e",
                                    "1": ",Frutas,Granos",
                                    "2": "Afganistán",
                                    "3": "CC",
                                    "4": "NULL",
                                    "5": "Kabul",
                                    "6": "clll",
                                    "7": "Persona Jurídica",
                                    "8": "2022-08-24 22:34:59.000",
                                    "9": "NULL",
                                    "10": "NULL",
                                    "11": "NULL",
                                    "12": "098908",
                                    "13": "NULL",
                                    "14": "",
                                    "15": "2022-08-24 22:34:59.000",
                                    "16": "NULL",
                                    "17": "3243242",
                                    "18": "NULL",
                                    "19": "Distrito",
                                    "20": "NULL",
                                    "21": "NULL",
                                    "22": "hh",
                                    "23": "gg@mail.com",
                                    "24": "Cami",
                                    "25": "hh",
                                    "26": "Admin"
                                },
                                {
                                    "0": "cc4ed833-12f3-4adb-9b24-940d0187120b",
                                    "1": "NULL",
                                    "2": "Colombia",
                                    "3": "NULL",
                                    "4": "NULL",
                                    "5": "MANIZALES",
                                    "6": "Vereda Solar",
                                    "7": "Persona Natural",
                                    "8": "2022-10-04 08:18:15.000",
                                    "9": "594b1e5c-040b-4cb7-8545-beeb48fbaaad",
                                    "10": "NULL",
                                    "11": "df1cfc8f-b8a4-407c-a3a7-b81f5a0a94a1",
                                    "12": "464646",
                                    "13": "594b1e5c-040b-4cb7-8545-beeb48fbaaad",
                                    "14": "Cultivos Café",
                                    "15": "2022-10-04 08:18:15.000",
                                    "16": "135.181.185.211",
                                    "17": "8888866",
                                    "18": "Insertar",
                                    "19": "Caldas",
                                    "20": "NULL",
                                    "21": "admin@mercafruta.com",
                                    "22": "Horacio Uribe",
                                    "23": "vebreigrouwaucou-7139@yopmail.com",
                                    "24": "NULL",
                                    "25": "NULL",
                                    "26": "NULL"
                                },
                                {
                                    "0": "3dd5f945-65b2-4d74-aa39-453d00347dd8",
                                    "1": "NULL",
                                    "2": "Colombia",
                                    "3": "NULL",
                                    "4": "NULL",
                                    "5": "MANIZALES",
                                    "6": "CLL 66C#33B22 CENTRO",
                                    "7": "Persona Natural",
                                    "8": "2022-11-22 08:22:49.000",
                                    "9": "594b1e5c-040b-4cb7-8545-beeb48fbaaad",
                                    "10": "NULL",
                                    "11": "fbfbc9f0-d84f-4e8d-aed1-5151826f5485",
                                    "12": "3455667",
                                    "13": "594b1e5c-040b-4cb7-8545-beeb48fbaaad",
                                    "14": "Cualquier tipo de cultivo",
                                    "15": "2022-11-22 08:22:49.000",
                                    "16": "135.181.185.211",
                                    "17": "6068927518",
                                    "18": "Insertar",
                                    "19": "Caldas",
                                    "20": "NULL",
                                    "21": "admin@mercafruta.com",
                                    "22": "Domínguez",
                                    "23": "poixouppecroufra-2239@yopmail.com",
                                    "24": "NULL",
                                    "25": "NULL",
                                    "26": "NULL"
                                }
                            ]
                        },
                        "text/html": [
                            "<table>",
                            "<tr><th>Id</th><th>TipoProducto</th><th>Pais</th><th>TipoDocumento</th><th>Otros</th><th>Ciudad</th><th>Direccion</th><th>TipoPersona</th><th>Edited_date</th><th>Edited_by</th><th>ProductosVende</th><th>UserFK</th><th>NumeroDocumento</th><th>Created_by</th><th>CEDescripcin</th><th>Created_date</th><th>IpAddress</th><th>Telefono</th><th>EventType</th><th>Departamento</th><th>Privacidad</th><th>UserEmail</th><th>Nombre</th><th>Email</th><th>NombreEmpresa</th><th>Apellido</th><th>Profesion</th></tr>",
                            "<tr><td>47ef619b-60b0-4ee2-bb61-fc3e1fbaf1ab</td><td>Verduras</td><td>Colombia</td><td>Cédula de extranjería</td><td>NULL</td><td>a</td><td>a</td><td>Persona Natural</td><td>2022-06-01 22:18:27.000</td><td>NULL</td><td>NULL</td><td>657229be-99b7-4a83-93f7-a268624602c9</td><td>121334</td><td>NULL</td><td></td><td>2022-06-01 22:18:27.000</td><td>NULL</td><td>1212121212</td><td>NULL</td><td>a</td><td>NULL</td><td>NULL</td><td>a</td><td>test.merca@yopmail.com</td><td>a</td><td>a</td><td>a</td></tr>",
                            "<tr><td>aaf4dc20-b3c4-4bd4-b9b6-f7d05522ca1f</td><td>,Frutas,Granos</td><td>Afganistán</td><td>CC</td><td>NULL</td><td>Kabul</td><td>clll</td><td>Persona Jurídica</td><td>2022-08-24 22:36:06.000</td><td>NULL</td><td>NULL</td><td>NULL</td><td>098908</td><td>NULL</td><td></td><td>2022-08-24 22:36:06.000</td><td>NULL</td><td>3243242</td><td>NULL</td><td>Distrito</td><td>NULL</td><td>NULL</td><td>Dilan</td><td>dilanjimenez140@gmail.com</td><td>Cami</td><td>Jimenez Arroyave</td><td>Admin</td></tr>",
                            "<tr><td>8c6f4a29-c8a2-40f9-a63d-b45180bbd79e</td><td>,Frutas,Granos</td><td>Afganistán</td><td>CC</td><td>NULL</td><td>Kabul</td><td>clll</td><td>Persona Jurídica</td><td>2022-08-24 22:34:59.000</td><td>NULL</td><td>NULL</td><td>NULL</td><td>098908</td><td>NULL</td><td></td><td>2022-08-24 22:34:59.000</td><td>NULL</td><td>3243242</td><td>NULL</td><td>Distrito</td><td>NULL</td><td>NULL</td><td>hh</td><td>gg@mail.com</td><td>Cami</td><td>hh</td><td>Admin</td></tr>",
                            "<tr><td>cc4ed833-12f3-4adb-9b24-940d0187120b</td><td>NULL</td><td>Colombia</td><td>NULL</td><td>NULL</td><td>MANIZALES</td><td>Vereda Solar</td><td>Persona Natural</td><td>2022-10-04 08:18:15.000</td><td>594b1e5c-040b-4cb7-8545-beeb48fbaaad</td><td>NULL</td><td>df1cfc8f-b8a4-407c-a3a7-b81f5a0a94a1</td><td>464646</td><td>594b1e5c-040b-4cb7-8545-beeb48fbaaad</td><td>Cultivos Café</td><td>2022-10-04 08:18:15.000</td><td>135.181.185.211</td><td>8888866</td><td>Insertar</td><td>Caldas</td><td>NULL</td><td>admin@mercafruta.com</td><td>Horacio Uribe</td><td>vebreigrouwaucou-7139@yopmail.com</td><td>NULL</td><td>NULL</td><td>NULL</td></tr>",
                            "<tr><td>3dd5f945-65b2-4d74-aa39-453d00347dd8</td><td>NULL</td><td>Colombia</td><td>NULL</td><td>NULL</td><td>MANIZALES</td><td>CLL 66C#33B22 CENTRO</td><td>Persona Natural</td><td>2022-11-22 08:22:49.000</td><td>594b1e5c-040b-4cb7-8545-beeb48fbaaad</td><td>NULL</td><td>fbfbc9f0-d84f-4e8d-aed1-5151826f5485</td><td>3455667</td><td>594b1e5c-040b-4cb7-8545-beeb48fbaaad</td><td>Cualquier tipo de cultivo</td><td>2022-11-22 08:22:49.000</td><td>135.181.185.211</td><td>6068927518</td><td>Insertar</td><td>Caldas</td><td>NULL</td><td>admin@mercafruta.com</td><td>Domínguez</td><td>poixouppecroufra-2239@yopmail.com</td><td>NULL</td><td>NULL</td><td>NULL</td></tr>",
                            "</table>"
                        ]
                    }
                }
            ],
            "execution_count": 2
        },
        {
            "cell_type": "markdown",
            "source": [
                "Otro ejemplo:"
            ],
            "metadata": {
                "azdata_cell_guid": "4361f445-f14e-4d9a-8eef-cbce9ab744fc"
            },
            "attachments": {}
        },
        {
            "cell_type": "code",
            "source": [
                "INSERT INTO FrutaNet_Lappiz_Comprador (Id\r\n",
                "      ,CEDescripcin\r\n",
                "      ,Created_date\r\n",
                "      ,Edited_date\r\n",
                "      ,Created_by\r\n",
                "      ,Edited_by\r\n",
                "      ,UserEmail\r\n",
                "      ,IpAddress\r\n",
                "      ,EventType\r\n",
                "      ,Nombre\r\n",
                "      ,Apellido\r\n",
                "      ,Email\r\n",
                "      ,TipoPersona\r\n",
                "      ,TipoDocumento\r\n",
                "      ,NumeroDocumento\r\n",
                "      ,Departamento\r\n",
                "      ,Direccion\r\n",
                "      ,Telefono\r\n",
                "      ,Ciudad\r\n",
                "      ,NombreEmpresa\r\n",
                "      ,PaisFk\r\n",
                "      ,DepartamentoFk\r\n",
                "      ,CiudadFk\r\n",
                "      ,UserFk)\r\n",
                "SELECT Id\r\n",
                "      ,CEDescripcin\r\n",
                "      ,Created_date\r\n",
                "      ,Edited_date\r\n",
                "      ,Created_by\r\n",
                "      ,Edited_by\r\n",
                "      ,UserEmail\r\n",
                "      ,IpAddress\r\n",
                "      ,EventType\r\n",
                "      ,Nombre\r\n",
                "      ,Apellido\r\n",
                "      ,Email\r\n",
                "      ,TipoPersona\r\n",
                "      ,TipoDocumento\r\n",
                "      ,NumeroDocumento\r\n",
                "      ,Departamento\r\n",
                "      ,Direccion\r\n",
                "      ,Telefono\r\n",
                "      ,Ciudad\r\n",
                "      ,NombreEmpresa\r\n",
                "      ,PaisFk\r\n",
                "      ,DepartamentoFk\r\n",
                "      ,CiudadFk\r\n",
                "      ,UserFk FROM MercaFruta_Lappiz_Comprador\r\n",
                "\r\n",
                "SELECT * FROM FrutaNet_Lappiz_Comprador\r\n",
                "\r\n",
                ""
            ],
            "metadata": {
                "azdata_cell_guid": "5e6f382f-de78-4d11-9137-839058bfbdbe",
                "tags": []
            },
            "outputs": [
                {
                    "output_type": "display_data",
                    "data": {
                        "text/html": "(4 rows affected)"
                    },
                    "metadata": {}
                },
                {
                    "output_type": "display_data",
                    "data": {
                        "text/html": "(4 rows affected)"
                    },
                    "metadata": {}
                },
                {
                    "output_type": "display_data",
                    "data": {
                        "text/html": "Total execution time: 00:00:00.296"
                    },
                    "metadata": {}
                },
                {
                    "output_type": "execute_result",
                    "metadata": {},
                    "execution_count": 3,
                    "data": {
                        "application/vnd.dataresource+json": {
                            "schema": {
                                "fields": [
                                    {
                                        "name": "Id"
                                    },
                                    {
                                        "name": "NombreEmpresa"
                                    },
                                    {
                                        "name": "Ciudad"
                                    },
                                    {
                                        "name": "DepartamentoFk"
                                    },
                                    {
                                        "name": "Nombre"
                                    },
                                    {
                                        "name": "Direccion"
                                    },
                                    {
                                        "name": "CiudadFk"
                                    },
                                    {
                                        "name": "TipoDocumento"
                                    },
                                    {
                                        "name": "EventType"
                                    },
                                    {
                                        "name": "Created_date"
                                    },
                                    {
                                        "name": "IpAddress"
                                    },
                                    {
                                        "name": "Departamento"
                                    },
                                    {
                                        "name": "Email"
                                    },
                                    {
                                        "name": "NumeroDocumento"
                                    },
                                    {
                                        "name": "Edited_by"
                                    },
                                    {
                                        "name": "Edited_date"
                                    },
                                    {
                                        "name": "UserFk"
                                    },
                                    {
                                        "name": "CEDescripcin"
                                    },
                                    {
                                        "name": "Apellido"
                                    },
                                    {
                                        "name": "Telefono"
                                    },
                                    {
                                        "name": "UserEmail"
                                    },
                                    {
                                        "name": "TipoPersona"
                                    },
                                    {
                                        "name": "PaisFk"
                                    },
                                    {
                                        "name": "Created_by"
                                    }
                                ]
                            },
                            "data": [
                                {
                                    "0": "8d6484fb-7943-4023-9cef-9dda1ea2a4f3",
                                    "1": "NULL",
                                    "2": "NULL",
                                    "3": "NULL",
                                    "4": "nombre prueba",
                                    "5": "NULL",
                                    "6": "NULL",
                                    "7": "Cédula de ciudadanía",
                                    "8": "Insertar",
                                    "9": "2022-09-27 08:21:33.000",
                                    "10": "135.181.185.211",
                                    "11": "NULL",
                                    "12": "NULL",
                                    "13": "1234567890",
                                    "14": "bf81093a-1286-49c8-9983-6fab3b0e35f4",
                                    "15": "2022-09-27 08:21:33.000",
                                    "16": "NULL",
                                    "17": "NULL",
                                    "18": "apellido prueba",
                                    "19": "NULL",
                                    "20": "compra.merca@yopmail.com",
                                    "21": "Persona Natural",
                                    "22": "NULL",
                                    "23": "bf81093a-1286-49c8-9983-6fab3b0e35f4"
                                },
                                {
                                    "0": "89f45995-9f2d-46ca-9660-8a2011675884",
                                    "1": "NULL",
                                    "2": "NULL",
                                    "3": "NULL",
                                    "4": "nombre prueba provisional",
                                    "5": "NULL",
                                    "6": "NULL",
                                    "7": "Cédula de ciudadanía",
                                    "8": "Insertar",
                                    "9": "2022-09-27 08:22:20.000",
                                    "10": "135.181.185.211",
                                    "11": "NULL",
                                    "12": "NULL",
                                    "13": "1234567890",
                                    "14": "bf81093a-1286-49c8-9983-6fab3b0e35f4",
                                    "15": "2022-09-27 08:22:20.000",
                                    "16": "NULL",
                                    "17": "NULL",
                                    "18": "apellido prueba",
                                    "19": "NULL",
                                    "20": "compra.merca@yopmail.com",
                                    "21": "Persona Natural",
                                    "22": "NULL",
                                    "23": "bf81093a-1286-49c8-9983-6fab3b0e35f4"
                                },
                                {
                                    "0": "de34645b-5bf6-4cd4-8165-55e1786dd711",
                                    "1": "NULL",
                                    "2": "NULL",
                                    "3": "NULL",
                                    "4": "Rubén Darío ",
                                    "5": "NULL",
                                    "6": "NULL",
                                    "7": "Cédula de ciudadanía",
                                    "8": "Insertar",
                                    "9": "2022-10-03 13:22:46.000",
                                    "10": "135.181.185.211",
                                    "11": "NULL",
                                    "12": "NULL",
                                    "13": "44444444",
                                    "14": "594b1e5c-040b-4cb7-8545-beeb48fbaaad",
                                    "15": "2022-10-03 13:22:46.000",
                                    "16": "81f673a8-ef37-47da-9913-a8607b884196",
                                    "17": "NULL",
                                    "18": "Aristizábal ",
                                    "19": "NULL",
                                    "20": "admin@mercafruta.com",
                                    "21": "Persona Natural",
                                    "22": "NULL",
                                    "23": "594b1e5c-040b-4cb7-8545-beeb48fbaaad"
                                },
                                {
                                    "0": "a308a8ae-6d1c-4e90-8e33-21f4a25b74ea",
                                    "1": "NULL",
                                    "2": "NULL",
                                    "3": "NULL",
                                    "4": "nombre prueba",
                                    "5": "NULL",
                                    "6": "NULL",
                                    "7": "Cédula de ciudadanía",
                                    "8": "Actualizar",
                                    "9": "2022-06-08 19:12:54.000",
                                    "10": "135.181.185.211",
                                    "11": "NULL",
                                    "12": "compra.merca@yopmail.com",
                                    "13": "1234567890",
                                    "14": "594b1e5c-040b-4cb7-8545-beeb48fbaaad",
                                    "15": "2022-09-21 16:50:47.000",
                                    "16": "bf81093a-1286-49c8-9983-6fab3b0e35f4",
                                    "17": "NULL",
                                    "18": "apellido prueba",
                                    "19": "NULL",
                                    "20": "admin@mercafruta.com",
                                    "21": "Persona Natural",
                                    "22": "NULL",
                                    "23": "NULL"
                                }
                            ]
                        },
                        "text/html": [
                            "<table>",
                            "<tr><th>Id</th><th>NombreEmpresa</th><th>Ciudad</th><th>DepartamentoFk</th><th>Nombre</th><th>Direccion</th><th>CiudadFk</th><th>TipoDocumento</th><th>EventType</th><th>Created_date</th><th>IpAddress</th><th>Departamento</th><th>Email</th><th>NumeroDocumento</th><th>Edited_by</th><th>Edited_date</th><th>UserFk</th><th>CEDescripcin</th><th>Apellido</th><th>Telefono</th><th>UserEmail</th><th>TipoPersona</th><th>PaisFk</th><th>Created_by</th></tr>",
                            "<tr><td>8d6484fb-7943-4023-9cef-9dda1ea2a4f3</td><td>NULL</td><td>NULL</td><td>NULL</td><td>nombre prueba</td><td>NULL</td><td>NULL</td><td>Cédula de ciudadanía</td><td>Insertar</td><td>2022-09-27 08:21:33.000</td><td>135.181.185.211</td><td>NULL</td><td>NULL</td><td>1234567890</td><td>bf81093a-1286-49c8-9983-6fab3b0e35f4</td><td>2022-09-27 08:21:33.000</td><td>NULL</td><td>NULL</td><td>apellido prueba</td><td>NULL</td><td>compra.merca@yopmail.com</td><td>Persona Natural</td><td>NULL</td><td>bf81093a-1286-49c8-9983-6fab3b0e35f4</td></tr>",
                            "<tr><td>89f45995-9f2d-46ca-9660-8a2011675884</td><td>NULL</td><td>NULL</td><td>NULL</td><td>nombre prueba provisional</td><td>NULL</td><td>NULL</td><td>Cédula de ciudadanía</td><td>Insertar</td><td>2022-09-27 08:22:20.000</td><td>135.181.185.211</td><td>NULL</td><td>NULL</td><td>1234567890</td><td>bf81093a-1286-49c8-9983-6fab3b0e35f4</td><td>2022-09-27 08:22:20.000</td><td>NULL</td><td>NULL</td><td>apellido prueba</td><td>NULL</td><td>compra.merca@yopmail.com</td><td>Persona Natural</td><td>NULL</td><td>bf81093a-1286-49c8-9983-6fab3b0e35f4</td></tr>",
                            "<tr><td>de34645b-5bf6-4cd4-8165-55e1786dd711</td><td>NULL</td><td>NULL</td><td>NULL</td><td>Rubén Darío </td><td>NULL</td><td>NULL</td><td>Cédula de ciudadanía</td><td>Insertar</td><td>2022-10-03 13:22:46.000</td><td>135.181.185.211</td><td>NULL</td><td>NULL</td><td>44444444</td><td>594b1e5c-040b-4cb7-8545-beeb48fbaaad</td><td>2022-10-03 13:22:46.000</td><td>81f673a8-ef37-47da-9913-a8607b884196</td><td>NULL</td><td>Aristizábal </td><td>NULL</td><td>admin@mercafruta.com</td><td>Persona Natural</td><td>NULL</td><td>594b1e5c-040b-4cb7-8545-beeb48fbaaad</td></tr>",
                            "<tr><td>a308a8ae-6d1c-4e90-8e33-21f4a25b74ea</td><td>NULL</td><td>NULL</td><td>NULL</td><td>nombre prueba</td><td>NULL</td><td>NULL</td><td>Cédula de ciudadanía</td><td>Actualizar</td><td>2022-06-08 19:12:54.000</td><td>135.181.185.211</td><td>NULL</td><td>compra.merca@yopmail.com</td><td>1234567890</td><td>594b1e5c-040b-4cb7-8545-beeb48fbaaad</td><td>2022-09-21 16:50:47.000</td><td>bf81093a-1286-49c8-9983-6fab3b0e35f4</td><td>NULL</td><td>apellido prueba</td><td>NULL</td><td>admin@mercafruta.com</td><td>Persona Natural</td><td>NULL</td><td>NULL</td></tr>",
                            "</table>"
                        ]
                    }
                }
            ],
            "execution_count": 3
        }
    ]
}